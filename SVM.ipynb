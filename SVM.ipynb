{
 "cells": [
  {
   "cell_type": "markdown",
   "metadata": {},
   "source": [
    "# SVM"
   ]
  },
  {
   "cell_type": "code",
   "execution_count": 1,
   "metadata": {
    "collapsed": true
   },
   "outputs": [],
   "source": [
    "import numpy as np\n",
    "import matplotlib as mpl\n",
    "import matplotlib.pyplot as plt\n",
    "import pandas as pd\n",
    "\n",
    "%matplotlib inline\n",
    "\n",
    "mpl.rcParams['axes.labelsize'] = 15"
   ]
  },
  {
   "cell_type": "markdown",
   "metadata": {},
   "source": [
    "# Fashion MNIST Image Classification\n",
    "The `Fashion-MNIST` dataset is a drop-in replacement for the [MNIST](http://yann.lecun.com/exdb/mnist/) dataset. Each example in the dataset is a 28x28 grayscale image of various clothing and accesories. There are 60,000 training examples and 10,000 iamges for testing. Each image falls into one of the following 10 categories.\n",
    "\n",
    "| Label | Description |\n",
    "| --- | --- |\n",
    "| 0 | T-shirt/top |\n",
    "| 1 | Trouser |\n",
    "| 2 | Pullover |\n",
    "| 3 | Dress |\n",
    "| 4 | Coat |\n",
    "| 5 | Sandal |\n",
    "| 6 | Shirt |\n",
    "| 7 | Sneaker |\n",
    "| 8 | Bag |\n",
    "| 9 | Ankle boot |\n",
    "\n",
    "Dataset:\n",
    "\n",
    "| Name  | Content | Examples | Size | Link | MD5 Checksum|\n",
    "| --- | --- |--- | --- |--- |--- |\n",
    "| `train-images-idx3-ubyte.gz`  | training set images  | 60,000|26 MBytes | [Download](http://fashion-mnist.s3-website.eu-central-1.amazonaws.com/train-images-idx3-ubyte.gz)|`8d4fb7e6c68d591d4c3dfef9ec88bf0d`|\n",
    "| `train-labels-idx1-ubyte.gz`  | training set labels  |60,000|29 KBytes | [Download](http://fashion-mnist.s3-website.eu-central-1.amazonaws.com/train-labels-idx1-ubyte.gz)|`25c81989df183df01b3e8a0aad5dffbe`|\n",
    "| `t10k-images-idx3-ubyte.gz`  | test set images  | 10,000|4.3 MBytes | [Download](http://fashion-mnist.s3-website.eu-central-1.amazonaws.com/t10k-images-idx3-ubyte.gz)|`bef4ecab320f06d8554ea6380940ec79`|\n",
    "| `t10k-labels-idx1-ubyte.gz`  | test set labels  | 10,000| 5.1 KBytes | [Download](http://fashion-mnist.s3-website.eu-central-1.amazonaws.com/t10k-labels-idx1-ubyte.gz)|`bb300cfdad3c16e7a12a480ee83cd310`|\n",
    "\n",
    "To load the dataset into your numpy array, use the following `load_mnist()` function, provided by the owners of the dataset."
   ]
  },
  {
   "cell_type": "code",
   "execution_count": 2,
   "metadata": {
    "collapsed": true
   },
   "outputs": [],
   "source": [
    "def load_mnist(path, kind='train'):\n",
    "    import os\n",
    "    import gzip\n",
    "    import numpy as np\n",
    "\n",
    "    \"\"\"Load MNIST data from `path`\"\"\"\n",
    "    labels_path = os.path.join(path,\n",
    "                               '%s-labels-idx1-ubyte.gz'\n",
    "                               % kind)\n",
    "    images_path = os.path.join(path,\n",
    "                               '%s-images-idx3-ubyte.gz'\n",
    "                               % kind)\n",
    "\n",
    "    with gzip.open(labels_path, 'rb') as lbpath:\n",
    "        labels = np.frombuffer(lbpath.read(), dtype=np.uint8,\n",
    "                               offset=8)\n",
    "\n",
    "    with gzip.open(images_path, 'rb') as imgpath:\n",
    "        images = np.frombuffer(imgpath.read(), dtype=np.uint8,\n",
    "                               offset=16).reshape(len(labels), 784)\n",
    "\n",
    "    return images, labels\n",
    "\n",
    "label = ['T-shirt/top',  'Trouser', 'Pullover', 'Dress', 'Coat', 'Sandal', 'Shirt',\n",
    "         'Sneaker', 'Bag', 'Ankle boot']"
   ]
  },
  {
   "cell_type": "code",
   "execution_count": 3,
   "metadata": {},
   "outputs": [
    {
     "name": "stdout",
     "output_type": "stream",
     "text": [
      "The training dataset is a 60000x784 matrix.\n",
      "The test dataset contains 10000 examples.\n"
     ]
    }
   ],
   "source": [
    "data_dir = './'\n",
    "X_train, y_train = load_mnist(data_dir, kind='train')\n",
    "X_test, y_test = load_mnist(data_dir, kind='t10k')\n",
    "\n",
    "X_train = X_train.astype(np.float32) / 256.0\n",
    "X_test = X_test.astype(np.float32) / 256.0\n",
    "\n",
    "print(\"The training dataset is a {}x{} matrix.\".format(X_train.shape[0], X_train.shape[1]))\n",
    "print(\"The test dataset contains {} examples.\".format(len(y_test)))"
   ]
  },
  {
   "cell_type": "code",
   "execution_count": 5,
   "metadata": {
    "collapsed": true
   },
   "outputs": [],
   "source": [
    "def display_example(image_idx):\n",
    "    \"\"\"\n",
    "    display an example in the dataset as an image.\n",
    "    \n",
    "    Parameters:\n",
    "    ----------------------\n",
    "    image_idx: int, the (row) index of image in the training data matrix.\n",
    "               Hence, it ranges from 0 to 59,999.\n",
    "    \"\"\"\n",
    "\n",
    "    fig= plt.figure(figsize=(2,2))\n",
    "    a=np.reshape(X_train[image_idx],(28,28))\n",
    "    plt.figure(figsize=(2,2))\n",
    "    plt.title(label[image_idx+1])\n",
    "    plt.axis('off')\n",
    "    imgplot = plt.imshow(a,cmap='gray')"
   ]
  },
  {
   "cell_type": "code",
   "execution_count": 289,
   "metadata": {},
   "outputs": [
    {
     "data": {
      "text/plain": [
       "<Figure size 144x144 with 0 Axes>"
      ]
     },
     "metadata": {},
     "output_type": "display_data"
    },
    {
     "data": {
      "image/png": "[encoded data removed]",
      "text/plain": [
       "<Figure size 144x144 with 1 Axes>"
      ]
     },
     "metadata": {
      "needs_background": "light"
     },
     "output_type": "display_data"
    }
   ],
   "source": [
    "display_example(6)"
   ]
  },
  {
   "cell_type": "code",
   "execution_count": 293,
   "metadata": {},
   "outputs": [
    {
     "data": {
      "text/plain": [
       "(60000, 784)"
      ]
     },
     "execution_count": 293,
     "metadata": {},
     "output_type": "execute_result"
    }
   ],
   "source": [
    "X_train.shape"
   ]
  },
  {
   "cell_type": "code",
   "execution_count": 45,
   "metadata": {
    "collapsed": true
   },
   "outputs": [],
   "source": [
    "from collections import Counter\n",
    "\n",
    "class KNNClassifier(object):\n",
    "    \"\"\" A naive implementation of k-NN model \"\"\"\n",
    "    def __init__(self, k=1):\n",
    "        \"\"\"\n",
    "        The construct of k-NN class.\n",
    "        \n",
    "        Parameters:\n",
    "        ----------------------\n",
    "        k: int, the number of neighbors to consider\n",
    "        \"\"\"\n",
    "        self.k = k\n",
    "        self.train_X = None\n",
    "        self.train_y = None\n",
    "        \n",
    "    def fit(self, X, y):   \n",
    "        \"\"\" training the model. \n",
    "        \"\"\"\n",
    "        self.train_X = X\n",
    "        self.train_y = y\n",
    "        \n",
    "    def predict(self, test_X):\n",
    "        \"\"\"\n",
    "        Performs the classification according to k-NN algorithm.\n",
    "        \n",
    "        Parameters:\n",
    "        -------------------\n",
    "        X_test: 2D array, a set of query points\n",
    "        \n",
    "        Returns:\n",
    "        -------------------\n",
    "        y_test: 1D array, the predicted class label for each example in X_test\n",
    "        \"\"\"        \n",
    "        if self.train_X is None or self.train_y is None:\n",
    "            raise Exception('k-NN is not initialized. Use after calling fit().')\n",
    "            \n",
    "        n_test = test_X.shape[0]\n",
    "        n_train = self.train_X.shape[0]\n",
    "        \n",
    "        # pairwise distance matrix of shape (n_test, n_train)\n",
    "\n",
    "         \n",
    "        a=self.train_X**2\n",
    "        \n",
    "        b=test_X**2\n",
    "        \n",
    "        c=-2*(test_X * self.train_X.T)\n",
    "        \n",
    "        dist = a+b+c\n",
    "        \n",
    "        return self.majority_voting(dist)\n",
    "        \n",
    "    def majority_voting(self, dist):\n",
    "        \"\"\"\n",
    "        Given the pairwise distance, this function performs the majority voting and \n",
    "        returns a 1D array of predicted labels.\n",
    "        \n",
    "        Parameters:\n",
    "        ----------------------\n",
    "        dist: 2D array of shape (n_test, n_train), pairwise distance matrix \n",
    "        \n",
    "        Returns:\n",
    "        y_pred: array of predicted lable for each example in X_test\n",
    "        \"\"\"\n",
    "        y_pred=[]\n",
    "        #--------------------------------------#\n",
    "        #   Your code goes here                #\n",
    "        #--------------------------------------#\n",
    "        for i in range(dist.shape[0]):\n",
    "            row=dist[i]\n",
    "            sortrow=np.sort(row)\n",
    "            label=[]\n",
    "            for j in range(k):\n",
    "                ind = np.where(row==sort[i])\n",
    "                label.append(train_y[ind])\n",
    "            label=Counter(label)\n",
    "            y_pred.appened(label.most_common(1)[0][0])\n",
    "        \n",
    "        return np.array(y_pred)\n",
    "        \n",
    "        "
   ]
  },
  {
   "cell_type": "code",
   "execution_count": 30,
   "metadata": {},
   "outputs": [
    {
     "data": {
      "text/plain": [
       "<matplotlib.axes._subplots.AxesSubplot at 0x21159629b70>"
      ]
     },
     "execution_count": 30,
     "metadata": {},
     "output_type": "execute_result"
    },
    {
     "data": {
      "image/png": "[encoded data removed]",
      "text/plain": [
       "<Figure size 288x288 with 1 Axes>"
      ]
     },
     "metadata": {
      "needs_background": "light"
     },
     "output_type": "display_data"
    }
   ],
   "source": [
    "from sklearn.datasets import make_blobs\n",
    "\n",
    "\n",
    "X_toy, y_toy = make_blobs(n_samples=50, n_features=2, centers=[[0, 0], [3, 3], [-1, 1.5]],\n",
    "                          random_state=3)\n",
    "\n",
    "# (min, max) coordinate values for drawing a countour plot\n",
    "x_min, x_max = X_toy[:, 0].min()-1, X_toy[:, 0].max()+1\n",
    "y_min, y_max = X_toy[:, 1].min()-1, X_toy[:, 1].max()+1\n",
    "\n",
    "\n",
    "def draw2D_data(X, Y):\n",
    "    fig, ax = plt.subplots(figsize=(4, 4))\n",
    "    ax.scatter(X[:, 0], X[:, 1], s=20, c=Y, cmap=plt.cm.coolwarm)\n",
    "    \n",
    "    return ax\n",
    "\n",
    "draw2D_data(X_toy, y_toy)\n"
   ]
  },
  {
   "cell_type": "code",
   "execution_count": 42,
   "metadata": {
    "collapsed": true
   },
   "outputs": [],
   "source": [
    "def make_meshgrid(x, y, h=.02):\n",
    "    \"\"\"Create a mesh of points to plot in\n",
    "\n",
    "    Parameters\n",
    "    ----------\n",
    "    x: data to base x-axis meshgrid on\n",
    "    y: data to base y-axis meshgrid on\n",
    "    h: stepsize for meshgrid, optional\n",
    "\n",
    "    Returns\n",
    "    -------\n",
    "    xx, yy : ndarray\n",
    "    \"\"\"\n",
    "    x_min, x_max = x.min() - 1, x.max() + 1\n",
    "    y_min, y_max = y.min() - 1, y.max() + 1\n",
    "    xx, yy = np.meshgrid(np.arange(x_min, x_max, h),\n",
    "                         np.arange(y_min, y_max, h))\n",
    "    return xx, yy"
   ]
  },
  {
   "cell_type": "code",
   "execution_count": 43,
   "metadata": {
    "collapsed": true
   },
   "outputs": [],
   "source": [
    "def plot_contours(ax, clf, xx, yy, **params):\n",
    "    \"\"\"Plot the decision boundaries for a classifier.\n",
    "\n",
    "    Parameters\n",
    "    ----------\n",
    "    ax: matplotlib axes object\n",
    "    clf: a classifier\n",
    "    xx: meshgrid ndarray\n",
    "    yy: meshgrid ndarray\n",
    "    params: dictionary of params to pass to contourf, optional\n",
    "    \"\"\"\n",
    "    Z = clf.predict(np.c_[xx.ravel(), yy.ravel()])\n",
    "    Z = Z.reshape(xx.shape)\n",
    "    out = ax.contourf(xx, yy, Z, **params)\n",
    "    return out"
   ]
  },
  {
   "cell_type": "code",
   "execution_count": 48,
   "metadata": {},
   "outputs": [],
   "source": [
    "model=KNNClassifier()\n",
    "model.fit(X_train,y_train)"
   ]
  },
  {
   "cell_type": "code",
   "execution_count": 47,
   "metadata": {
    "collapsed": true
   },
   "outputs": [],
   "source": [
    "X0, X1 = X_train[:, 0], X_train[:, 1]\n",
    "xx, yy = make_meshgrid(X0, X1)"
   ]
  },
  {
   "cell_type": "code",
   "execution_count": 52,
   "metadata": {},
   "outputs": [],
   "source": [
    "fig, sub = plt.subplots(2, 2)\n",
    "ax=sub.flatten()\n",
    "plot_contours(ax, model, xx, yy,cmap=plt.cm.coolwarm, alpha=0.8)\n",
    "ax.scatter(X0, X1, c=y, cmap=plt.cm.coolwarm, s=20, edgecolors='k')\n",
    "ax.set_xlim(xx.min(), xx.max())\n",
    "ax.set_ylim(yy.min(), yy.max())\n",
    "ax.set_xlabel('Sepal length')\n",
    "ax.set_ylabel('Sepal width')\n",
    "ax.set_xticks(())\n",
    "ax.set_yticks(())\n",
    "ax.set_title(title)"
   ]
  },
  {
   "cell_type": "code",
   "execution_count": 55,
   "metadata": {},
   "outputs": [],
   "source": [
    "from sklearn.metrics import confusion_matrix\n",
    "\n",
    "confusion_matrix(y_pred,y_test)\n"
   ]
  },
  {
   "cell_type": "code",
   "execution_count": 5,
   "metadata": {},
   "outputs": [
    {
     "data": {
      "text/plain": [
       "KNeighborsClassifier(algorithm='auto', leaf_size=30, metric='minkowski',\n",
       "           metric_params=None, n_jobs=1, n_neighbors=3, p=2,\n",
       "           weights='uniform')"
      ]
     },
     "execution_count": 5,
     "metadata": {},
     "output_type": "execute_result"
    }
   ],
   "source": [
    "from sklearn.neighbors import KNeighborsClassifier\n",
    "neigh = KNeighborsClassifier(n_neighbors=3)\n",
    "neigh.fit(X_train[:500], y_train[:500])\n",
    "\n",
    "#-------------------------------------#\n",
    "#    Your code goes here              #  \n",
    "#-------------------------------------#\n"
   ]
  },
  {
   "cell_type": "code",
   "execution_count": 13,
   "metadata": {},
   "outputs": [],
   "source": [
    "y_pred=neigh.predict(X_test[:100])"
   ]
  },
  {
   "cell_type": "code",
   "execution_count": 25,
   "metadata": {},
   "outputs": [
    {
     "data": {
      "text/plain": [
       "0.79"
      ]
     },
     "execution_count": 25,
     "metadata": {},
     "output_type": "execute_result"
    }
   ],
   "source": [
    "correct=0\n",
    "y=y_test[:100]\n",
    "for i in range(len(y_pred)):\n",
    "    if y_pred[i]==y[i]:\n",
    "        correct=correct+1\n",
    "correct=(correct/100)\n",
    "correct"
   ]
  },
  {
   "cell_type": "code",
   "execution_count": 21,
   "metadata": {},
   "outputs": [
    {
     "data": {
      "text/plain": [
       "SVC(C=1.0, cache_size=200, class_weight=None, coef0=0.0,\n",
       "  decision_function_shape='ovr', degree=3, gamma='auto', kernel='linear',\n",
       "  max_iter=-1, probability=False, random_state=None, shrinking=True,\n",
       "  tol=0.001, verbose=False)"
      ]
     },
     "execution_count": 21,
     "metadata": {},
     "output_type": "execute_result"
    }
   ],
   "source": [
    "from sklearn.svm import SVC\n",
    "clf = SVC(kernel='linear')\n",
    "clf.fit(X_train[:500],y_train[:500])\n",
    "#-------------------------------------#\n",
    "#    Your code goes here              #  \n",
    "#-------------------------------------#\n"
   ]
  },
  {
   "cell_type": "code",
   "execution_count": 23,
   "metadata": {},
   "outputs": [],
   "source": [
    "y_pred=clf.predict(X_test[:100])"
   ]
  },
  {
   "cell_type": "code",
   "execution_count": 26,
   "metadata": {},
   "outputs": [
    {
     "data": {
      "text/plain": [
       "0.79"
      ]
     },
     "execution_count": 26,
     "metadata": {},
     "output_type": "execute_result"
    }
   ],
   "source": [
    "y=y[:100]\n",
    "correct=0\n",
    "y=y_test[:100]\n",
    "for i in range(len(y_pred)):\n",
    "    if y_pred[i]==y[i]:\n",
    "        correct=correct+1\n",
    "correct=(correct/100)\n",
    "correct"
   ]
  },
  {
   "cell_type": "code",
   "execution_count": 27,
   "metadata": {},
   "outputs": [
    {
     "data": {
      "text/plain": [
       "array([[ 8,  0,  0,  0,  0,  0,  0,  0,  0,  0],\n",
       "       [ 0, 13,  0,  0,  0,  0,  0,  0,  0,  0],\n",
       "       [ 0,  0, 10,  0,  3,  0,  1,  0,  0,  0],\n",
       "       [ 2,  0,  0,  7,  0,  0,  0,  0,  0,  0],\n",
       "       [ 0,  0,  3,  0,  5,  0,  2,  0,  0,  0],\n",
       "       [ 0,  0,  0,  0,  0,  7,  0,  2,  0,  0],\n",
       "       [ 0,  0,  1,  0,  1,  0,  6,  0,  0,  0],\n",
       "       [ 0,  0,  0,  0,  0,  2,  0,  8,  0,  1],\n",
       "       [ 0,  0,  0,  0,  0,  0,  1,  0, 11,  0],\n",
       "       [ 0,  0,  0,  0,  0,  0,  0,  2,  0,  4]], dtype=int64)"
      ]
     },
     "execution_count": 27,
     "metadata": {},
     "output_type": "execute_result"
    }
   ],
   "source": [
    "from sklearn.metrics import confusion_matrix\n",
    "confusion_matrix(y, y_pred)"
   ]
  },
  {
   "cell_type": "markdown",
   "metadata": {},
   "source": [
    "# Eigenface\n",
    "\n"
   ]
  },
  {
   "cell_type": "code",
   "execution_count": 29,
   "metadata": {},
   "outputs": [
    {
     "name": "stderr",
     "output_type": "stream",
     "text": [
      "Downloading LFW metadata: https://ndownloader.figshare.com/files/5976012\n",
      "Downloading LFW metadata: https://ndownloader.figshare.com/files/5976009\n",
      "Downloading LFW metadata: https://ndownloader.figshare.com/files/5976006\n",
      "Downloading LFW data (~200MB): https://ndownloader.figshare.com/files/5976015\n"
     ]
    },
    {
     "name": "stdout",
     "output_type": "stream",
     "text": [
      "Total dataset size:\n",
      "n_samples: 3023\n",
      "n_features: 2914\n",
      "n_classes: 62\n"
     ]
    }
   ],
   "source": [
    "from sklearn.datasets import fetch_lfw_people\n",
    "\n",
    "\n",
    "lfw_people = fetch_lfw_people(min_faces_per_person=20, resize=0.5)\n",
    "n_samples, height, width = lfw_people.images.shape\n",
    "\n",
    "X = lfw_people.data\n",
    "y = lfw_people.target\n",
    "target_names = lfw_people.target_names\n",
    "\n",
    "n_classes = target_names.shape[0]\n",
    "n_features = X.shape[1]\n",
    "print(\"Total dataset size:\")\n",
    "print(\"n_samples: {}\".format(n_samples))\n",
    "print(\"n_features: {}\".format(n_features))\n",
    "print(\"n_classes: {}\".format(n_classes))"
   ]
  },
  {
   "cell_type": "code",
   "execution_count": 30,
   "metadata": {
    "collapsed": true
   },
   "outputs": [],
   "source": [
    "from sklearn.model_selection import train_test_split\n",
    "\n",
    "X_train, X_test, y_train, y_test = train_test_split(X, y, test_size=0.2, random_state=1220)"
   ]
  },
  {
   "cell_type": "code",
   "execution_count": 31,
   "metadata": {},
   "outputs": [
    {
     "data": {
      "image/png": "[encoded data removed]",
      "text/plain": [
       "<matplotlib.figure.Figure at 0x1f33b6cd5c0>"
      ]
     },
     "metadata": {},
     "output_type": "display_data"
    },
    {
     "data": {
      "image/png": "[encoded data removed]",
      "text/plain": [
       "<matplotlib.figure.Figure at 0x1f33bdae898>"
      ]
     },
     "metadata": {},
     "output_type": "display_data"
    },
    {
     "data": {
      "image/png": "[encoded data removed]",
      "text/plain": [
       "<matplotlib.figure.Figure at 0x1f33b931240>"
      ]
     },
     "metadata": {},
     "output_type": "display_data"
    }
   ],
   "source": [
    "import numpy as np\n",
    "import matplotlib.pyplot as plt\n",
    "for i in range(0,3):\n",
    "    a=np.reshape(X_train[i],(height,width))\n",
    "    plt.figure(figsize=(2,2))\n",
    "    plt.axis('off')\n",
    "    plt.imshow(a,cmap='bone')\n",
    "    plt.title(target_names[y_train[i]])"
   ]
  },
  {
   "cell_type": "markdown",
   "metadata": {},
   "source": [
    "## Principal Component Analysis\n"
   ]
  },
  {
   "cell_type": "code",
   "execution_count": 32,
   "metadata": {},
   "outputs": [
    {
     "data": {
      "image/png": "[encoded data removed]",
      "text/plain": [
       "<matplotlib.figure.Figure at 0x1f33b8906a0>"
      ]
     },
     "metadata": {},
     "output_type": "display_data"
    }
   ],
   "source": [
    "x_mean = np.mean(X_train, axis=0)\n",
    "\n",
    "\n",
    "def display_face(x, height, width, name):\n",
    "    \"\"\"\n",
    "    This function reshapes the given image and then displays it.\n",
    "    \n",
    "    Parameters \n",
    "    -------------------\n",
    "    x: input image vector, 1D numpy array\n",
    "    height, width: integers, height and width of images\n",
    "    name: title of the figure\n",
    "    \"\"\"\n",
    "    #-----------------------------------#\n",
    "    #      your code goes here          #\n",
    "    #-----------------------------------#\n",
    "    \n",
    "    a=np.reshape(x,(height,width))\n",
    "#     plt.figure(figsize=(2,2))\n",
    "    plt.axis('off')\n",
    "    plt.imshow(a,cmap='gray')\n",
    "    plt.title(name)\n",
    "\n",
    "display_face(x_mean, height, width, 'mean face image')"
   ]
  },
  {
   "cell_type": "code",
   "execution_count": 33,
   "metadata": {},
   "outputs": [],
   "source": [
    "X_centered = X_train - x_mean\n",
    "\n",
    " \n",
    "def compute_SVD(X_centered):\n",
    "    \"\"\"\n",
    "    This function performs SVD and returns singular values and eigenvectors.\n",
    "    \n",
    "    Returns:\n",
    "    S: 1D numpy array of singular values\n",
    "    V: a set of eigenvectors, 2D numpy array\n",
    "    \"\"\"\n",
    "    #-----------------------------------#\n",
    "    #      your code goes here          #\n",
    "    #-----------------------------------#    \n",
    "    u,S,V=np.linalg.svd(X_centered)\n",
    "    return S, V\n",
    "S, V = compute_SVD(X_centered)"
   ]
  },
  {
   "cell_type": "code",
   "execution_count": 34,
   "metadata": {},
   "outputs": [
    {
     "data": {
      "image/png": "[encoded data removed]",
      "text/plain": [
       "<matplotlib.figure.Figure at 0x1f33b9167b8>"
      ]
     },
     "metadata": {},
     "output_type": "display_data"
    },
    {
     "data": {
      "image/png": "[encoded data removed]",
      "text/plain": [
       "<matplotlib.figure.Figure at 0x1f33baae080>"
      ]
     },
     "metadata": {},
     "output_type": "display_data"
    },
    {
     "data": {
      "image/png": "[encoded data removed]",
      "text/plain": [
       "<matplotlib.figure.Figure at 0x1f33bae5e10>"
      ]
     },
     "metadata": {},
     "output_type": "display_data"
    },
    {
     "data": {
      "image/png": "[encoded data removed]",
      "text/plain": [
       "<matplotlib.figure.Figure at 0x1f33bd66b00>"
      ]
     },
     "metadata": {},
     "output_type": "display_data"
    },
    {
     "data": {
      "image/png": "[encoded data removed]",
      "text/plain": [
       "<matplotlib.figure.Figure at 0x1f33c588828>"
      ]
     },
     "metadata": {},
     "output_type": "display_data"
    }
   ],
   "source": [
    "n_disp = 5\n",
    "for i in range(n_disp):\n",
    "    a=np.reshape(V[i],(height,width))\n",
    "    plt.figure()\n",
    "    plt.title('eigenvector')\n",
    "    plt.imshow(a,cmap='bone')\n",
    "    plt.axis('off')"
   ]
  },
  {
   "cell_type": "code",
   "execution_count": 35,
   "metadata": {
    "collapsed": true
   },
   "outputs": [],
   "source": [
    "S_std=S/np.sum(S)\n",
    "cum_exp=np.cumsum(S_std)"
   ]
  },
  {
   "cell_type": "code",
   "execution_count": 36,
   "metadata": {},
   "outputs": [
    {
     "data": {
      "text/plain": [
       "<matplotlib.legend.Legend at 0x1f33c7d8550>"
      ]
     },
     "execution_count": 36,
     "metadata": {},
     "output_type": "execute_result"
    },
    {
     "data": {
      "image/png": "[encoded data removed]",
      "text/plain": [
       "<matplotlib.figure.Figure at 0x1f33c773f28>"
      ]
     },
     "metadata": {},
     "output_type": "display_data"
    }
   ],
   "source": [
    "plt.plot(range(1000),S_std[:1000], color='orange', label='singular value')\n",
    "plt.plot(range(1000),cum_exp[:1000], color='blue', label='cumulative')\n",
    "plt.xlabel('Principal component')\n",
    "plt.ylabel('Explained Variance Ratio')\n",
    "plt.legend()"
   ]
  },
  {
   "cell_type": "code",
   "execution_count": 37,
   "metadata": {
    "collapsed": true
   },
   "outputs": [],
   "source": [
    "def get_projected_coordinate(X_centered, V, n_eigv):\n",
    "    \"\"\"\n",
    "    Parameters\n",
    "    ---------------\n",
    "    X_centered : original (centered) image, 1D nunmpy array of lenght 2914\n",
    "    V : set of eigenvectors\n",
    "    n_eigv: number of eigenvectors to choose\n",
    "    \n",
    "    \n",
    "    Return \n",
    "    ------------------\n",
    "    coord: 1D numpy array of length n_eigv\n",
    "    \"\"\"\n",
    "\n",
    "    #-----------------------------------#\n",
    "    #      your code goes here          #\n",
    "    #-----------------------------------#\n",
    "#     V=V[:n_eigv]\n",
    "    VT=V.T\n",
    "    a=0\n",
    "    coord=np.zeros((n_eigv,len(V[0])))\n",
    "    #print(coord.shape)\n",
    "    for i in range(0,n_eigv):\n",
    "        a=i\n",
    "        #coord[i]=np.dot(VT[i],X_centered[i])\n",
    "        #print(VT[i].shape)\n",
    "        #print(X_centered[i].shape)\n",
    "        coord[i]=np.dot(V[i],X_centered)\n",
    "    print(a)\n",
    "#     coord=np.array(coord)\n",
    "    return coord"
   ]
  },
  {
   "cell_type": "code",
   "execution_count": 38,
   "metadata": {
    "collapsed": true
   },
   "outputs": [],
   "source": [
    "def reconstruct_image(x_mean, V, coord):\n",
    "    \"\"\"\n",
    "    Parameters\n",
    "    ----------------------\n",
    "    x_mean: the mean image\n",
    "    V: the set of eigenvectors\n",
    "    coord: coordinate values in the projected space, 1D numpy array\n",
    "    \"\"\"\n",
    "    recon=x_mean\n",
    "    for i in range(len(coord)):\n",
    "        recon+=coord[i]*V[i]    \n",
    "    #-----------------------------------#\n",
    "    #      your code goes here          #\n",
    "    #-----------------------------------#\n",
    "    \n",
    "    return recon"
   ]
  },
  {
   "cell_type": "code",
   "execution_count": 40,
   "metadata": {},
   "outputs": [
    {
     "name": "stdout",
     "output_type": "stream",
     "text": [
      "99\n"
     ]
    },
    {
     "data": {
      "text/plain": [
       "Text(0.5,1,'New')"
      ]
     },
     "execution_count": 40,
     "metadata": {},
     "output_type": "execute_result"
    },
    {
     "data": {
      "image/png": "[encoded data removed]",
      "text/plain": [
       "<matplotlib.figure.Figure at 0x1f33c614f98>"
      ]
     },
     "metadata": {},
     "output_type": "display_data"
    },
    {
     "data": {
      "image/png": "[encoded data removed]",
      "text/plain": [
       "<matplotlib.figure.Figure at 0x1f33bae5780>"
      ]
     },
     "metadata": {},
     "output_type": "display_data"
    }
   ],
   "source": [
    "coord=get_projected_coordinate(X_centered[0], V, 100)\n",
    "\n",
    "img=reconstruct_image(x_mean,V[:100],coord)\n",
    "image=np.reshape(X_train[0],(height,width))\n",
    "plt.figure()\n",
    "plt.axis('off')\n",
    "plt.imshow(image,cmap='bone')\n",
    "plt.title(\"Original\")\n",
    "\n",
    "image=np.reshape(img,(height,width))\n",
    "plt.figure()\n",
    "plt.axis('off')\n",
    "plt.imshow(image,cmap='bone')\n",
    "plt.title(\"New\")\n"
   ]
  },
  {
   "cell_type": "code",
   "execution_count": 41,
   "metadata": {},
   "outputs": [
    {
     "name": "stdout",
     "output_type": "stream",
     "text": [
      "999\n"
     ]
    },
    {
     "data": {
      "text/plain": [
       "Text(0.5,1,'New')"
      ]
     },
     "execution_count": 41,
     "metadata": {},
     "output_type": "execute_result"
    },
    {
     "data": {
      "image/png": "[encoded data removed]",
      "text/plain": [
       "<matplotlib.figure.Figure at 0x1f33c5c5b38>"
      ]
     },
     "metadata": {},
     "output_type": "display_data"
    },
    {
     "data": {
      "image/png": "[encoded data removed]",
      "text/plain": [
       "<matplotlib.figure.Figure at 0x1f33c77fc18>"
      ]
     },
     "metadata": {},
     "output_type": "display_data"
    }
   ],
   "source": [
    "coordi=get_projected_coordinate(X_centered[0], V, 1000)\n",
    "\n",
    "imgi=reconstruct_image(x_mean,V[:1000],coordi)\n",
    "image=np.reshape(X_train[0],(height,width))\n",
    "plt.figure()\n",
    "plt.axis('off')\n",
    "plt.imshow(image,cmap='bone')\n",
    "plt.title(\"Original\")\n",
    "\n",
    "image=np.reshape(imgi,(height,width))\n",
    "plt.figure()\n",
    "plt.axis('off')\n",
    "plt.imshow(image,cmap='bone')\n",
    "plt.title(\"New\")"
   ]
  }
 ],
 "metadata": {
  "kernelspec": {
   "display_name": "Python 3",
   "language": "python",
   "name": "python3"
  },
  "language_info": {
   "codemirror_mode": {
    "name": "ipython",
    "version": 3
   },
   "file_extension": ".py",
   "mimetype": "text/x-python",
   "name": "python",
   "nbconvert_exporter": "python",
   "pygments_lexer": "ipython3",
   "version": "3.7.6"
  }
 },
 "nbformat": 4,
 "nbformat_minor": 2
}
