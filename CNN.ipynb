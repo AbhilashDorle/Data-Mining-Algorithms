{
 "cells": [
  {
   "cell_type": "markdown",
   "metadata": {},
   "source": [
    "# CNN"
   ]
  },
  {
   "cell_type": "code",
   "execution_count": 265,
   "metadata": {},
   "outputs": [],
   "source": [
    "import numpy as np\n",
    "import matplotlib as mpl\n",
    "import matplotlib.pyplot as plt\n",
    "import pandas as pd\n",
    "\n",
    "%matplotlib inline\n",
    "\n",
    "mpl.rcParams['axes.labelsize'] = 15"
   ]
  },
  {
   "cell_type": "markdown",
   "metadata": {},
   "source": [
    "## Fashion MNIST Image Classification\n",
    " There are 60,000 training examples and 10,000 iamges for testing. Each image falls into one of the following 10 categories.\n",
    "\n",
    "| Label | Description |\n",
    "| --- | --- |\n",
    "| 0 | T-shirt/top |\n",
    "| 1 | Trouser |\n",
    "| 2 | Pullover |\n",
    "| 3 | Dress |\n",
    "| 4 | Coat |\n",
    "| 5 | Sandal |\n",
    "| 6 | Shirt |\n",
    "| 7 | Sneaker |\n",
    "| 8 | Bag |\n",
    "| 9 | Ankle boot |\n",
    "\n",
    "Dataset\n",
    "\n",
    "| Name  | Content | Examples | Size | Link | MD5 Checksum|\n",
    "| --- | --- |--- | --- |--- |--- |\n",
    "| `train-images-idx3-ubyte.gz`  | training set images  | 60,000|26 MBytes | [Download](http://fashion-mnist.s3-website.eu-central-1.amazonaws.com/train-images-idx3-ubyte.gz)|`8d4fb7e6c68d591d4c3dfef9ec88bf0d`|\n",
    "| `train-labels-idx1-ubyte.gz`  | training set labels  |60,000|29 KBytes | [Download](http://fashion-mnist.s3-website.eu-central-1.amazonaws.com/train-labels-idx1-ubyte.gz)|`25c81989df183df01b3e8a0aad5dffbe`|\n",
    "| `t10k-images-idx3-ubyte.gz`  | test set images  | 10,000|4.3 MBytes | [Download](http://fashion-mnist.s3-website.eu-central-1.amazonaws.com/t10k-images-idx3-ubyte.gz)|`bef4ecab320f06d8554ea6380940ec79`|\n",
    "| `t10k-labels-idx1-ubyte.gz`  | test set labels  | 10,000| 5.1 KBytes | [Download](http://fashion-mnist.s3-website.eu-central-1.amazonaws.com/t10k-labels-idx1-ubyte.gz)|`bb300cfdad3c16e7a12a480ee83cd310`|\n",
    "\n"
   ]
  },
  {
   "cell_type": "code",
   "execution_count": 266,
   "metadata": {},
   "outputs": [],
   "source": [
    "def load_mnist(path, kind='train'):\n",
    "    import os\n",
    "    import gzip\n",
    "    import numpy as np\n",
    "\n",
    "    \"\"\"Load MNIST data from `path`\"\"\"\n",
    "    labels_path = os.path.join(path,\n",
    "                               '%s-labels-idx1-ubyte.gz'\n",
    "                               % kind)\n",
    "    images_path = os.path.join(path,\n",
    "                               '%s-images-idx3-ubyte.gz'\n",
    "                               % kind)\n",
    "\n",
    "    with gzip.open(labels_path, 'rb') as lbpath:\n",
    "        labels = np.frombuffer(lbpath.read(), dtype=np.uint8,\n",
    "                               offset=8)\n",
    "\n",
    "    with gzip.open(images_path, 'rb') as imgpath:\n",
    "        images = np.frombuffer(imgpath.read(), dtype=np.uint8,\n",
    "                               offset=16).reshape(len(labels), 784)\n",
    "\n",
    "    return images, labels\n",
    "\n",
    "label = ['T-shirt/top',  'Trouser', 'Pullover', 'Dress', 'Coat', 'Sandal', 'Shirt',\n",
    "         'Sneaker', 'Bag', 'Ankle boot']"
   ]
  },
  {
   "cell_type": "code",
   "execution_count": 267,
   "metadata": {},
   "outputs": [
    {
     "name": "stdout",
     "output_type": "stream",
     "text": [
      "The training dataset is a 60000x784 matrix.\n",
      "The test dataset contains 10000 examples.\n"
     ]
    }
   ],
   "source": [
    "data_dir = './'\n",
    "X_train, y_train = load_mnist(data_dir, kind='train')\n",
    "X_test, y_test = load_mnist(data_dir, kind='t10k')\n",
    "\n",
    "X_train = X_train.astype(np.float32) / 256.0\n",
    "X_test = X_test.astype(np.float32) / 256.0\n",
    "\n",
    "print(\"The training dataset is a {}x{} matrix.\".format(X_train.shape[0], X_train.shape[1]))\n",
    "print(\"The test dataset contains {} examples.\".format(len(y_test)))"
   ]
  },
  {
   "cell_type": "markdown",
   "metadata": {},
   "source": [
    "## Logistic Regression\n"
   ]
  },
  {
   "cell_type": "code",
   "execution_count": 6,
   "metadata": {},
   "outputs": [
    {
     "name": "stderr",
     "output_type": "stream",
     "text": [
      "Using TensorFlow backend.\n"
     ]
    }
   ],
   "source": [
    "import keras\n",
    "from keras.models import Sequential \n",
    "from keras.layers import Dense, Dropout\n",
    "from keras.optimizers import RMSprop"
   ]
  },
  {
   "cell_type": "code",
   "execution_count": 1,
   "metadata": {},
   "outputs": [
    {
     "ename": "NameError",
     "evalue": "name 'Sequential' is not defined",
     "output_type": "error",
     "traceback": [
      "\u001b[1;31m---------------------------------------------------------------------------\u001b[0m",
      "\u001b[1;31mNameError\u001b[0m                                 Traceback (most recent call last)",
      "\u001b[1;32m<ipython-input-1-be6c18eba9d1>\u001b[0m in \u001b[0;36m<module>\u001b[1;34m\u001b[0m\n\u001b[0;32m      3\u001b[0m \u001b[0mnum_class\u001b[0m\u001b[1;33m=\u001b[0m\u001b[1;36m10\u001b[0m\u001b[1;33m\u001b[0m\u001b[1;33m\u001b[0m\u001b[0m\n\u001b[0;32m      4\u001b[0m \u001b[1;33m\u001b[0m\u001b[0m\n\u001b[1;32m----> 5\u001b[1;33m \u001b[0mmodel\u001b[0m\u001b[1;33m=\u001b[0m\u001b[0mSequential\u001b[0m\u001b[1;33m(\u001b[0m\u001b[1;33m)\u001b[0m\u001b[1;33m\u001b[0m\u001b[1;33m\u001b[0m\u001b[0m\n\u001b[0m\u001b[0;32m      6\u001b[0m \u001b[0mmodel\u001b[0m\u001b[1;33m.\u001b[0m\u001b[0madd\u001b[0m\u001b[1;33m(\u001b[0m\u001b[0mDense\u001b[0m\u001b[1;33m(\u001b[0m\u001b[1;36m512\u001b[0m\u001b[1;33m,\u001b[0m \u001b[0minput_shape\u001b[0m\u001b[1;33m=\u001b[0m\u001b[1;33m(\u001b[0m\u001b[1;36m784\u001b[0m\u001b[1;33m,\u001b[0m\u001b[1;33m)\u001b[0m\u001b[1;33m,\u001b[0m\u001b[0mactivation\u001b[0m\u001b[1;33m=\u001b[0m\u001b[1;34m'relu'\u001b[0m\u001b[1;33m)\u001b[0m\u001b[1;33m)\u001b[0m\u001b[1;33m\u001b[0m\u001b[1;33m\u001b[0m\u001b[0m\n\u001b[0;32m      7\u001b[0m \u001b[0mmodel\u001b[0m\u001b[1;33m.\u001b[0m\u001b[0madd\u001b[0m\u001b[1;33m(\u001b[0m\u001b[0mDense\u001b[0m\u001b[1;33m(\u001b[0m\u001b[1;36m512\u001b[0m\u001b[1;33m,\u001b[0m\u001b[0mactivation\u001b[0m\u001b[1;33m=\u001b[0m\u001b[1;34m'relu'\u001b[0m\u001b[1;33m)\u001b[0m\u001b[1;33m)\u001b[0m\u001b[1;33m\u001b[0m\u001b[1;33m\u001b[0m\u001b[0m\n",
      "\u001b[1;31mNameError\u001b[0m: name 'Sequential' is not defined"
     ]
    }
   ],
   "source": [
    "batch_size=128\n",
    "epochs=100\n",
    "num_class=10\n",
    "\n",
    "model=Sequential()\n",
    "model.add(Dense(512, input_shape=(784,),activation='relu'))\n",
    "model.add(Dense(512,activation='relu'))\n",
    "model.add(Dense(num_class,activation='softmax'))\n",
    "\n",
    "model.summary()"
   ]
  },
  {
   "cell_type": "code",
   "execution_count": 92,
   "metadata": {},
   "outputs": [],
   "source": [
    "from keras.optimizers import SGD\n",
    "model.compile(loss='categorical_crossentropy',optimizer=SGD(momentum=0.9),metrics=['accuracy'])"
   ]
  },
  {
   "cell_type": "code",
   "execution_count": 93,
   "metadata": {},
   "outputs": [],
   "source": [
    "y_train_new=keras.utils.to_categorical(y_train, num_classes=num_class)\n",
    "y_test_new=keras.utils.to_categorical(y_test, num_classes=num_class)"
   ]
  },
  {
   "cell_type": "code",
   "execution_count": 95,
   "metadata": {},
   "outputs": [
    {
     "name": "stdout",
     "output_type": "stream",
     "text": [
      "Train on 60000 samples, validate on 10000 samples\n",
      "Epoch 1/100\n",
      "60000/60000 [==============================] - 5s 76us/step - loss: 0.6114 - acc: 0.7879 - val_loss: 0.5035 - val_acc: 0.8201\n",
      "Epoch 2/100\n",
      "60000/60000 [==============================] - 4s 66us/step - loss: 0.4215 - acc: 0.8508 - val_loss: 0.4560 - val_acc: 0.8370\n",
      "Epoch 3/100\n",
      "60000/60000 [==============================] - 4s 67us/step - loss: 0.3767 - acc: 0.8650 - val_loss: 0.4149 - val_acc: 0.8472\n",
      "Epoch 4/100\n",
      "60000/60000 [==============================] - 5s 83us/step - loss: 0.3506 - acc: 0.8746 - val_loss: 0.3775 - val_acc: 0.8669\n",
      "Epoch 5/100\n",
      "60000/60000 [==============================] - 5s 88us/step - loss: 0.3286 - acc: 0.8811 - val_loss: 0.3805 - val_acc: 0.8613\n",
      "Epoch 6/100\n",
      "60000/60000 [==============================] - 5s 88us/step - loss: 0.3136 - acc: 0.8874 - val_loss: 0.3586 - val_acc: 0.8715\n",
      "Epoch 7/100\n",
      "60000/60000 [==============================] - 5s 90us/step - loss: 0.2988 - acc: 0.8920 - val_loss: 0.3497 - val_acc: 0.8714\n",
      "Epoch 8/100\n",
      "60000/60000 [==============================] - 5s 89us/step - loss: 0.2877 - acc: 0.8947 - val_loss: 0.3433 - val_acc: 0.8759\n",
      "Epoch 9/100\n",
      "60000/60000 [==============================] - 5s 89us/step - loss: 0.2746 - acc: 0.8996 - val_loss: 0.3362 - val_acc: 0.8763\n",
      "Epoch 10/100\n",
      "60000/60000 [==============================] - 5s 90us/step - loss: 0.2647 - acc: 0.9026 - val_loss: 0.3410 - val_acc: 0.8768\n",
      "Epoch 11/100\n",
      "60000/60000 [==============================] - 5s 88us/step - loss: 0.2567 - acc: 0.9068 - val_loss: 0.3479 - val_acc: 0.8725\n",
      "Epoch 12/100\n",
      "60000/60000 [==============================] - 5s 88us/step - loss: 0.2466 - acc: 0.9105 - val_loss: 0.3194 - val_acc: 0.8872\n",
      "Epoch 13/100\n",
      "60000/60000 [==============================] - 5s 90us/step - loss: 0.2395 - acc: 0.9122 - val_loss: 0.3281 - val_acc: 0.8790\n",
      "Epoch 14/100\n",
      "60000/60000 [==============================] - 5s 88us/step - loss: 0.2323 - acc: 0.9155 - val_loss: 0.3180 - val_acc: 0.8864\n",
      "Epoch 15/100\n",
      "60000/60000 [==============================] - 5s 89us/step - loss: 0.2233 - acc: 0.9183 - val_loss: 0.3153 - val_acc: 0.8868\n",
      "Epoch 16/100\n",
      "60000/60000 [==============================] - 5s 90us/step - loss: 0.2182 - acc: 0.9206 - val_loss: 0.3345 - val_acc: 0.8854\n",
      "Epoch 17/100\n",
      "60000/60000 [==============================] - 5s 89us/step - loss: 0.2109 - acc: 0.9233 - val_loss: 0.3138 - val_acc: 0.8897\n",
      "Epoch 18/100\n",
      "60000/60000 [==============================] - 5s 88us/step - loss: 0.2057 - acc: 0.9249 - val_loss: 0.3136 - val_acc: 0.8897\n",
      "Epoch 19/100\n",
      "60000/60000 [==============================] - 5s 91us/step - loss: 0.2021 - acc: 0.9261 - val_loss: 0.3126 - val_acc: 0.8910\n",
      "Epoch 20/100\n",
      "60000/60000 [==============================] - 5s 90us/step - loss: 0.1943 - acc: 0.9289 - val_loss: 0.3293 - val_acc: 0.8799\n",
      "Epoch 21/100\n",
      "60000/60000 [==============================] - 5s 89us/step - loss: 0.1899 - acc: 0.9300 - val_loss: 0.3080 - val_acc: 0.8923\n",
      "Epoch 22/100\n",
      "60000/60000 [==============================] - 5s 91us/step - loss: 0.1828 - acc: 0.9329 - val_loss: 0.3342 - val_acc: 0.8826\n",
      "Epoch 23/100\n",
      "60000/60000 [==============================] - 5s 89us/step - loss: 0.1790 - acc: 0.9349 - val_loss: 0.3062 - val_acc: 0.8938\n",
      "Epoch 24/100\n",
      "60000/60000 [==============================] - 5s 89us/step - loss: 0.1747 - acc: 0.9367 - val_loss: 0.3362 - val_acc: 0.8828\n",
      "Epoch 25/100\n",
      "60000/60000 [==============================] - 5s 90us/step - loss: 0.1691 - acc: 0.9376 - val_loss: 0.3013 - val_acc: 0.8999\n",
      "Epoch 26/100\n",
      "60000/60000 [==============================] - 5s 89us/step - loss: 0.1621 - acc: 0.9411 - val_loss: 0.3280 - val_acc: 0.8882\n",
      "Epoch 27/100\n",
      "60000/60000 [==============================] - 5s 89us/step - loss: 0.1597 - acc: 0.9425 - val_loss: 0.3145 - val_acc: 0.8963\n",
      "Epoch 28/100\n",
      "60000/60000 [==============================] - 5s 92us/step - loss: 0.1567 - acc: 0.9433 - val_loss: 0.3514 - val_acc: 0.8839\n",
      "Epoch 29/100\n",
      "60000/60000 [==============================] - 5s 89us/step - loss: 0.1518 - acc: 0.9456 - val_loss: 0.3101 - val_acc: 0.8950\n",
      "Epoch 30/100\n",
      "60000/60000 [==============================] - 5s 89us/step - loss: 0.1482 - acc: 0.9466 - val_loss: 0.3142 - val_acc: 0.8934\n",
      "Epoch 31/100\n",
      "60000/60000 [==============================] - 5s 91us/step - loss: 0.1423 - acc: 0.9480 - val_loss: 0.3120 - val_acc: 0.8952\n",
      "Epoch 32/100\n",
      "60000/60000 [==============================] - 5s 89us/step - loss: 0.1384 - acc: 0.9500 - val_loss: 0.3368 - val_acc: 0.8915\n",
      "Epoch 33/100\n",
      "60000/60000 [==============================] - 5s 89us/step - loss: 0.1333 - acc: 0.9517 - val_loss: 0.3221 - val_acc: 0.8956\n",
      "Epoch 34/100\n",
      "60000/60000 [==============================] - 6s 92us/step - loss: 0.1319 - acc: 0.9521 - val_loss: 0.3514 - val_acc: 0.8898\n",
      "Epoch 35/100\n",
      "60000/60000 [==============================] - 5s 89us/step - loss: 0.1261 - acc: 0.9551 - val_loss: 0.3266 - val_acc: 0.8945\n",
      "Epoch 36/100\n",
      "60000/60000 [==============================] - 5s 91us/step - loss: 0.1222 - acc: 0.9560 - val_loss: 0.3301 - val_acc: 0.8991\n",
      "Epoch 37/100\n",
      "60000/60000 [==============================] - 5s 91us/step - loss: 0.1202 - acc: 0.9567 - val_loss: 0.3294 - val_acc: 0.8948\n",
      "Epoch 38/100\n",
      "60000/60000 [==============================] - 5s 89us/step - loss: 0.1184 - acc: 0.9569 - val_loss: 0.3228 - val_acc: 0.8962\n",
      "Epoch 39/100\n",
      "60000/60000 [==============================] - 5s 90us/step - loss: 0.1104 - acc: 0.9607 - val_loss: 0.3448 - val_acc: 0.8940\n",
      "Epoch 40/100\n",
      "60000/60000 [==============================] - 5s 90us/step - loss: 0.1112 - acc: 0.9596 - val_loss: 0.3409 - val_acc: 0.8969\n",
      "Epoch 41/100\n",
      "60000/60000 [==============================] - 5s 89us/step - loss: 0.1074 - acc: 0.9616 - val_loss: 0.3388 - val_acc: 0.8974\n",
      "Epoch 42/100\n",
      "60000/60000 [==============================] - 5s 92us/step - loss: 0.1040 - acc: 0.9622 - val_loss: 0.3497 - val_acc: 0.8943\n",
      "Epoch 43/100\n",
      "60000/60000 [==============================] - 5s 91us/step - loss: 0.1016 - acc: 0.9634 - val_loss: 0.3320 - val_acc: 0.8998\n",
      "Epoch 44/100\n",
      "60000/60000 [==============================] - 5s 89us/step - loss: 0.0946 - acc: 0.9661 - val_loss: 0.3375 - val_acc: 0.8984\n",
      "Epoch 45/100\n",
      "60000/60000 [==============================] - 5s 91us/step - loss: 0.0934 - acc: 0.9666 - val_loss: 0.3506 - val_acc: 0.8925\n",
      "Epoch 46/100\n",
      "60000/60000 [==============================] - 5s 90us/step - loss: 0.0928 - acc: 0.9671 - val_loss: 0.3567 - val_acc: 0.8925\n",
      "Epoch 47/100\n",
      "60000/60000 [==============================] - 5s 89us/step - loss: 0.0909 - acc: 0.9673 - val_loss: 0.3588 - val_acc: 0.8943\n",
      "Epoch 48/100\n",
      "60000/60000 [==============================] - 5s 91us/step - loss: 0.0901 - acc: 0.9677 - val_loss: 0.3493 - val_acc: 0.8940\n",
      "Epoch 49/100\n",
      "60000/60000 [==============================] - 5s 90us/step - loss: 0.0843 - acc: 0.9701 - val_loss: 0.3957 - val_acc: 0.8869\n",
      "Epoch 50/100\n",
      "60000/60000 [==============================] - 5s 89us/step - loss: 0.0867 - acc: 0.9692 - val_loss: 0.3581 - val_acc: 0.9004\n",
      "Epoch 51/100\n",
      "60000/60000 [==============================] - 5s 92us/step - loss: 0.0765 - acc: 0.9733 - val_loss: 0.3825 - val_acc: 0.8981\n",
      "Epoch 52/100\n",
      "60000/60000 [==============================] - 5s 89us/step - loss: 0.0758 - acc: 0.9736 - val_loss: 0.3577 - val_acc: 0.8990\n",
      "Epoch 53/100\n",
      "60000/60000 [==============================] - 5s 89us/step - loss: 0.0745 - acc: 0.9742 - val_loss: 0.3728 - val_acc: 0.8928\n",
      "Epoch 54/100\n",
      "60000/60000 [==============================] - 5s 92us/step - loss: 0.0688 - acc: 0.9760 - val_loss: 0.3759 - val_acc: 0.8928\n",
      "Epoch 55/100\n",
      "60000/60000 [==============================] - 5s 90us/step - loss: 0.0714 - acc: 0.9750 - val_loss: 0.3663 - val_acc: 0.8953\n",
      "Epoch 56/100\n",
      "60000/60000 [==============================] - 5s 89us/step - loss: 0.0714 - acc: 0.9743 - val_loss: 0.3840 - val_acc: 0.8969\n",
      "Epoch 57/100\n",
      "60000/60000 [==============================] - 6s 92us/step - loss: 0.0650 - acc: 0.9771 - val_loss: 0.3777 - val_acc: 0.8978\n",
      "Epoch 58/100\n",
      "60000/60000 [==============================] - 5s 90us/step - loss: 0.0637 - acc: 0.9774 - val_loss: 0.3880 - val_acc: 0.8940\n",
      "Epoch 59/100\n",
      "60000/60000 [==============================] - 5s 87us/step - loss: 0.0634 - acc: 0.9773 - val_loss: 0.3973 - val_acc: 0.8943\n",
      "Epoch 60/100\n",
      "60000/60000 [==============================] - 5s 89us/step - loss: 0.0607 - acc: 0.9790 - val_loss: 0.4081 - val_acc: 0.8933\n",
      "Epoch 61/100\n",
      "60000/60000 [==============================] - 5s 87us/step - loss: 0.0566 - acc: 0.9803 - val_loss: 0.3961 - val_acc: 0.8972\n",
      "Epoch 62/100\n",
      "60000/60000 [==============================] - 5s 87us/step - loss: 0.0591 - acc: 0.9791 - val_loss: 0.3991 - val_acc: 0.8970\n",
      "Epoch 63/100\n",
      "60000/60000 [==============================] - 5s 89us/step - loss: 0.0544 - acc: 0.9810 - val_loss: 0.4090 - val_acc: 0.8970\n",
      "Epoch 64/100\n",
      "60000/60000 [==============================] - 5s 87us/step - loss: 0.0521 - acc: 0.9820 - val_loss: 0.4133 - val_acc: 0.8967\n",
      "Epoch 65/100\n",
      "60000/60000 [==============================] - 5s 87us/step - loss: 0.0505 - acc: 0.9826 - val_loss: 0.3955 - val_acc: 0.8979\n",
      "Epoch 66/100\n",
      "60000/60000 [==============================] - 5s 89us/step - loss: 0.0488 - acc: 0.9840 - val_loss: 0.4238 - val_acc: 0.8982\n",
      "Epoch 67/100\n",
      "60000/60000 [==============================] - 5s 87us/step - loss: 0.0464 - acc: 0.9842 - val_loss: 0.4427 - val_acc: 0.8900\n",
      "Epoch 68/100\n",
      "60000/60000 [==============================] - 5s 87us/step - loss: 0.0484 - acc: 0.9836 - val_loss: 0.4190 - val_acc: 0.9000\n",
      "Epoch 69/100\n",
      "60000/60000 [==============================] - 5s 90us/step - loss: 0.0474 - acc: 0.9835 - val_loss: 0.4298 - val_acc: 0.8948\n",
      "Epoch 70/100\n",
      "60000/60000 [==============================] - 5s 88us/step - loss: 0.0436 - acc: 0.9847 - val_loss: 0.4309 - val_acc: 0.8938\n",
      "Epoch 71/100\n",
      "60000/60000 [==============================] - 5s 87us/step - loss: 0.0425 - acc: 0.9853 - val_loss: 0.4532 - val_acc: 0.8911\n",
      "Epoch 72/100\n",
      "60000/60000 [==============================] - 5s 89us/step - loss: 0.0401 - acc: 0.9869 - val_loss: 0.4314 - val_acc: 0.8993\n",
      "Epoch 73/100\n",
      "60000/60000 [==============================] - 5s 87us/step - loss: 0.0378 - acc: 0.9875 - val_loss: 0.4364 - val_acc: 0.8982\n",
      "Epoch 74/100\n",
      "60000/60000 [==============================] - 5s 87us/step - loss: 0.0392 - acc: 0.9864 - val_loss: 0.4580 - val_acc: 0.8946\n",
      "Epoch 75/100\n",
      "60000/60000 [==============================] - 5s 88us/step - loss: 0.0364 - acc: 0.9874 - val_loss: 0.4442 - val_acc: 0.8964\n",
      "Epoch 76/100\n",
      "60000/60000 [==============================] - 5s 88us/step - loss: 0.0363 - acc: 0.9877 - val_loss: 0.4472 - val_acc: 0.8998\n",
      "Epoch 77/100\n",
      "60000/60000 [==============================] - 5s 87us/step - loss: 0.0363 - acc: 0.9878 - val_loss: 0.4626 - val_acc: 0.8952\n",
      "Epoch 78/100\n",
      "60000/60000 [==============================] - 5s 88us/step - loss: 0.0351 - acc: 0.9881 - val_loss: 0.4659 - val_acc: 0.8944\n",
      "Epoch 79/100\n",
      "60000/60000 [==============================] - 5s 88us/step - loss: 0.0284 - acc: 0.9907 - val_loss: 0.4705 - val_acc: 0.8925\n",
      "Epoch 80/100\n",
      "60000/60000 [==============================] - 5s 87us/step - loss: 0.0299 - acc: 0.9903 - val_loss: 0.4836 - val_acc: 0.8939\n",
      "Epoch 81/100\n",
      "60000/60000 [==============================] - 5s 88us/step - loss: 0.0315 - acc: 0.9902 - val_loss: 0.4634 - val_acc: 0.8952\n",
      "Epoch 82/100\n",
      "60000/60000 [==============================] - 5s 88us/step - loss: 0.0320 - acc: 0.9890 - val_loss: 0.4623 - val_acc: 0.8939\n",
      "Epoch 83/100\n",
      "60000/60000 [==============================] - 5s 87us/step - loss: 0.0275 - acc: 0.9908 - val_loss: 0.4718 - val_acc: 0.8968\n",
      "Epoch 84/100\n",
      "60000/60000 [==============================] - 5s 88us/step - loss: 0.0254 - acc: 0.9923 - val_loss: 0.4726 - val_acc: 0.9000\n",
      "Epoch 85/100\n",
      "60000/60000 [==============================] - 5s 88us/step - loss: 0.0285 - acc: 0.9903 - val_loss: 0.4570 - val_acc: 0.8991\n",
      "Epoch 86/100\n",
      "60000/60000 [==============================] - 5s 87us/step - loss: 0.0254 - acc: 0.9919 - val_loss: 0.4837 - val_acc: 0.8970\n",
      "Epoch 87/100\n",
      "60000/60000 [==============================] - 5s 89us/step - loss: 0.0234 - acc: 0.9922 - val_loss: 0.4851 - val_acc: 0.9020\n",
      "Epoch 88/100\n",
      "60000/60000 [==============================] - 5s 89us/step - loss: 0.0227 - acc: 0.9928 - val_loss: 0.5010 - val_acc: 0.8945\n",
      "Epoch 89/100\n",
      "60000/60000 [==============================] - 5s 87us/step - loss: 0.0211 - acc: 0.9938 - val_loss: 0.4795 - val_acc: 0.8994\n",
      "Epoch 90/100\n",
      "60000/60000 [==============================] - 5s 88us/step - loss: 0.0202 - acc: 0.9938 - val_loss: 0.4945 - val_acc: 0.8956\n",
      "Epoch 91/100\n",
      "60000/60000 [==============================] - 5s 89us/step - loss: 0.0200 - acc: 0.9939 - val_loss: 0.4961 - val_acc: 0.9008\n",
      "Epoch 92/100\n",
      "60000/60000 [==============================] - 5s 87us/step - loss: 0.0192 - acc: 0.9942 - val_loss: 0.4873 - val_acc: 0.8994\n",
      "Epoch 93/100\n",
      "60000/60000 [==============================] - 5s 87us/step - loss: 0.0230 - acc: 0.9924 - val_loss: 0.5066 - val_acc: 0.8953\n",
      "Epoch 94/100\n",
      "60000/60000 [==============================] - 5s 89us/step - loss: 0.0217 - acc: 0.9931 - val_loss: 0.5066 - val_acc: 0.8952\n",
      "Epoch 95/100\n",
      "60000/60000 [==============================] - 5s 87us/step - loss: 0.0147 - acc: 0.9959 - val_loss: 0.5170 - val_acc: 0.8967\n",
      "Epoch 96/100\n",
      "60000/60000 [==============================] - 5s 87us/step - loss: 0.0160 - acc: 0.9951 - val_loss: 0.5323 - val_acc: 0.8922\n",
      "Epoch 97/100\n",
      "60000/60000 [==============================] - 5s 89us/step - loss: 0.0163 - acc: 0.9956 - val_loss: 0.5110 - val_acc: 0.8990\n",
      "Epoch 98/100\n",
      "60000/60000 [==============================] - 5s 87us/step - loss: 0.0109 - acc: 0.9976 - val_loss: 0.5236 - val_acc: 0.8983\n",
      "Epoch 99/100\n",
      "60000/60000 [==============================] - 5s 87us/step - loss: 0.0141 - acc: 0.9962 - val_loss: 0.5360 - val_acc: 0.8948\n",
      "Epoch 100/100\n",
      "60000/60000 [==============================] - 5s 89us/step - loss: 0.0168 - acc: 0.9950 - val_loss: 0.5287 - val_acc: 0.9012\n"
     ]
    }
   ],
   "source": [
    "history=model.fit(X_train, y_train_new, batch_size=batch_size, epochs=epochs, validation_data=(X_test,y_test_new))"
   ]
  },
  {
   "cell_type": "code",
   "execution_count": 96,
   "metadata": {},
   "outputs": [],
   "source": [
    "loss = history.history.values()\n",
    "import numpy as np\n",
    "num_epochs=np.arange(1,101)"
   ]
  },
  {
   "cell_type": "code",
   "execution_count": 97,
   "metadata": {},
   "outputs": [],
   "source": [
    "los=np.array(list(loss))\n",
    "num_epochs=np.array(num_epochs)"
   ]
  },
  {
   "cell_type": "code",
   "execution_count": 98,
   "metadata": {},
   "outputs": [],
   "source": [
    "los=los.T"
   ]
  },
  {
   "cell_type": "code",
   "execution_count": 99,
   "metadata": {
    "scrolled": true
   },
   "outputs": [
    {
     "data": {
      "image/png": "[encoded data removed]",
      "text/plain": [
       "<Figure size 432x288 with 1 Axes>"
      ]
     },
     "metadata": {
      "needs_background": "light"
     },
     "output_type": "display_data"
    }
   ],
   "source": [
    "plt.plot(history.history['loss'])\n",
    "plt.plot(history.history['val_loss'])\n",
    "plt.title('model loss')\n",
    "plt.ylabel('loss')\n",
    "plt.xlabel('epoch')\n",
    "plt.legend(['train', 'test'], loc='upper right')\n",
    "plt.show()"
   ]
  },
  {
   "cell_type": "code",
   "execution_count": 100,
   "metadata": {},
   "outputs": [
    {
     "data": {
      "image/png": "[encoded data removed]",
      "text/plain": [
       "<Figure size 432x288 with 1 Axes>"
      ]
     },
     "metadata": {
      "needs_background": "light"
     },
     "output_type": "display_data"
    }
   ],
   "source": [
    "plt.plot(history.history['acc'])\n",
    "plt.plot(history.history['val_acc'])\n",
    "plt.title('model accuracy')\n",
    "plt.ylabel('accuracy')\n",
    "plt.xlabel('epoch')\n",
    "plt.legend(['train', 'test'], loc='upper right')\n",
    "plt.show()"
   ]
  },
  {
   "cell_type": "markdown",
   "metadata": {},
   "source": [
    "# Taking a subset "
   ]
  },
  {
   "cell_type": "code",
   "execution_count": 298,
   "metadata": {},
   "outputs": [],
   "source": [
    "Xtrain=X_train[:9000]\n",
    "ytrain=y_train[:9000]\n",
    "Xtest=X_test[:4000]\n",
    "ytest=y_test[:4000]"
   ]
  },
  {
   "cell_type": "code",
   "execution_count": 299,
   "metadata": {},
   "outputs": [],
   "source": [
    "X_train_new=[]\n",
    "y_train_neww=[]\n",
    "X_test_new=[]\n",
    "y_test_neww=[]"
   ]
  },
  {
   "cell_type": "code",
   "execution_count": 300,
   "metadata": {},
   "outputs": [],
   "source": [
    "for i in ytrain:\n",
    "    if i==2:\n",
    "        X_train_new.append(Xtrain[i])\n",
    "        y_train_neww.append(1)\n",
    "    if i==7:\n",
    "        X_train_new.append(Xtrain[i])\n",
    "        y_train_neww.append(-1)"
   ]
  },
  {
   "cell_type": "code",
   "execution_count": 301,
   "metadata": {},
   "outputs": [],
   "source": [
    "for i in ytest:\n",
    "    if i==2:\n",
    "        X_test_new.append(Xtest[i])\n",
    "        y_test_neww.append(1)\n",
    "    if i==7:\n",
    "        X_test_new.append(Xtest[i])\n",
    "        y_test_neww.append(-1)"
   ]
  },
  {
   "cell_type": "code",
   "execution_count": 302,
   "metadata": {},
   "outputs": [],
   "source": [
    "X_train_new=np.array(X_train_new)\n",
    "y_train_neww=np.array(y_train_neww)\n",
    "X_test_new=np.array(X_test_new)\n",
    "y_test_neww=np.array(y_test_neww)"
   ]
  },
  {
   "cell_type": "code",
   "execution_count": 303,
   "metadata": {},
   "outputs": [],
   "source": [
    "acc=[]"
   ]
  },
  {
   "cell_type": "markdown",
   "metadata": {},
   "source": [
    "## Logistic Regression"
   ]
  },
  {
   "cell_type": "code",
   "execution_count": 304,
   "metadata": {},
   "outputs": [],
   "source": [
    "from sklearn.linear_model import LogisticRegression"
   ]
  },
  {
   "cell_type": "code",
   "execution_count": 305,
   "metadata": {},
   "outputs": [
    {
     "name": "stderr",
     "output_type": "stream",
     "text": [
      "D:\\Anaconda\\envs\\tensorflow_env\\lib\\site-packages\\sklearn\\linear_model\\logistic.py:432: FutureWarning: Default solver will be changed to 'lbfgs' in 0.22. Specify a solver to silence this warning.\n",
      "  FutureWarning)\n"
     ]
    }
   ],
   "source": [
    "logreg= LogisticRegression()\n",
    "logreg.fit(X_train_new,y_train_neww)\n",
    "y_pred=logreg.predict(X_test_new)"
   ]
  },
  {
   "cell_type": "code",
   "execution_count": 306,
   "metadata": {},
   "outputs": [],
   "source": [
    "correct=0\n",
    "j=0\n",
    "for i in y_pred:\n",
    "    if i==y_test_neww[j]:\n",
    "        correct=correct+1\n",
    "    j=j+1\n",
    "\n",
    "correct=correct/len(y_test_neww)"
   ]
  },
  {
   "cell_type": "code",
   "execution_count": 307,
   "metadata": {},
   "outputs": [
    {
     "data": {
      "text/plain": [
       "1.0"
      ]
     },
     "execution_count": 307,
     "metadata": {},
     "output_type": "execute_result"
    }
   ],
   "source": [
    "acc.append(correct)\n",
    "correct"
   ]
  },
  {
   "cell_type": "markdown",
   "metadata": {},
   "source": [
    "## SVC"
   ]
  },
  {
   "cell_type": "code",
   "execution_count": 308,
   "metadata": {},
   "outputs": [],
   "source": [
    "from sklearn.svm import SVC"
   ]
  },
  {
   "cell_type": "code",
   "execution_count": 309,
   "metadata": {},
   "outputs": [],
   "source": [
    "svc= SVC(kernel='linear')\n",
    "svc.fit(X_train_new,y_train_neww)\n",
    "y_pred=svc.predict(X_test_new)"
   ]
  },
  {
   "cell_type": "code",
   "execution_count": 310,
   "metadata": {},
   "outputs": [],
   "source": [
    "from sklearn.metrics import accuracy_score"
   ]
  },
  {
   "cell_type": "code",
   "execution_count": 311,
   "metadata": {},
   "outputs": [
    {
     "data": {
      "text/plain": [
       "0.49939540507859737"
      ]
     },
     "execution_count": 311,
     "metadata": {},
     "output_type": "execute_result"
    }
   ],
   "source": [
    "accuracy_score(y_test_neww,y_pred)"
   ]
  },
  {
   "cell_type": "code",
   "execution_count": 312,
   "metadata": {},
   "outputs": [],
   "source": [
    "correct=0\n",
    "j=0\n",
    "for i in y_pred:\n",
    "    if i==y_test_neww[j]:\n",
    "        correct=correct+1\n",
    "    j=j+1\n",
    "\n",
    "correct=correct/len(y_test_neww)"
   ]
  },
  {
   "cell_type": "code",
   "execution_count": 313,
   "metadata": {},
   "outputs": [
    {
     "data": {
      "text/plain": [
       "0.49939540507859737"
      ]
     },
     "execution_count": 313,
     "metadata": {},
     "output_type": "execute_result"
    }
   ],
   "source": [
    "acc.append(correct)\n",
    "correct"
   ]
  },
  {
   "cell_type": "markdown",
   "metadata": {},
   "source": [
    "## KNeighborsClassifier"
   ]
  },
  {
   "cell_type": "code",
   "execution_count": 314,
   "metadata": {},
   "outputs": [],
   "source": [
    "from sklearn.neighbors import KNeighborsClassifier"
   ]
  },
  {
   "cell_type": "code",
   "execution_count": 315,
   "metadata": {},
   "outputs": [],
   "source": [
    "clf= KNeighborsClassifier(n_neighbors=10)\n",
    "clf.fit(X_train_new,y_train_neww)\n",
    "y_pred=clf.predict(X_test_new)"
   ]
  },
  {
   "cell_type": "code",
   "execution_count": 316,
   "metadata": {},
   "outputs": [],
   "source": [
    "correct=0\n",
    "j=0\n",
    "for i in y_pred:\n",
    "    if i==y_test_neww[j]:\n",
    "        correct=correct+1\n",
    "    j=j+1\n",
    "\n",
    "correct=correct/len(y_test_neww)"
   ]
  },
  {
   "cell_type": "code",
   "execution_count": 317,
   "metadata": {},
   "outputs": [
    {
     "data": {
      "text/plain": [
       "0.49939540507859737"
      ]
     },
     "execution_count": 317,
     "metadata": {},
     "output_type": "execute_result"
    }
   ],
   "source": [
    "acc.append(correct)\n",
    "correct"
   ]
  },
  {
   "cell_type": "markdown",
   "metadata": {},
   "source": [
    "## DecisionTreeClassifier"
   ]
  },
  {
   "cell_type": "code",
   "execution_count": 318,
   "metadata": {},
   "outputs": [],
   "source": [
    "from sklearn.tree import DecisionTreeClassifier"
   ]
  },
  {
   "cell_type": "code",
   "execution_count": 319,
   "metadata": {},
   "outputs": [],
   "source": [
    "clf= DecisionTreeClassifier()\n",
    "clf.fit(X_train_new,y_train_neww)\n",
    "y_pred=clf.predict(X_test_new)"
   ]
  },
  {
   "cell_type": "code",
   "execution_count": 320,
   "metadata": {},
   "outputs": [],
   "source": [
    "correct=0\n",
    "j=0\n",
    "for i in y_pred:\n",
    "    if i==y_test_neww[j]:\n",
    "        correct=correct+1\n",
    "    j=j+1\n",
    "\n",
    "correct=correct/len(y_test_neww)"
   ]
  },
  {
   "cell_type": "code",
   "execution_count": 321,
   "metadata": {},
   "outputs": [
    {
     "data": {
      "text/plain": [
       "1.0"
      ]
     },
     "execution_count": 321,
     "metadata": {},
     "output_type": "execute_result"
    }
   ],
   "source": [
    "acc.append(correct)\n",
    "correct"
   ]
  },
  {
   "cell_type": "code",
   "execution_count": 322,
   "metadata": {},
   "outputs": [],
   "source": [
    "x=np.arange(1,5)"
   ]
  },
  {
   "cell_type": "code",
   "execution_count": 324,
   "metadata": {},
   "outputs": [],
   "source": [
    "label=['Logistic Regression','SVC','KNeighbors','Decision Trees']"
   ]
  },
  {
   "cell_type": "code",
   "execution_count": 326,
   "metadata": {
    "scrolled": true
   },
   "outputs": [
    {
     "data": {
      "text/plain": [
       "<function matplotlib.pyplot.show(*args, **kw)>"
      ]
     },
     "execution_count": 326,
     "metadata": {},
     "output_type": "execute_result"
    },
    {
     "data": {
      "image/png": "[encoded data removed]",
      "text/plain": [
       "<Figure size 432x288 with 1 Axes>"
      ]
     },
     "metadata": {
      "needs_background": "light"
     },
     "output_type": "display_data"
    }
   ],
   "source": [
    "plt.bar(x,acc)\n",
    "plt.xlabel('Model', fontsize=5)\n",
    "plt.ylabel('Accuracy', fontsize=5)\n",
    "plt.xticks(x, label, fontsize=5, rotation=30)\n",
    "plt.show"
   ]
  },
  {
   "cell_type": "markdown",
   "metadata": {},
   "source": [
    "### Convolutional Neural Network with the following architecture:\n",
    "- Convolutional Layer with 32 filters with size of 3x3\n",
    "- ReLU activation function\n",
    "- 2x2 MaxPooling\n",
    "- Convolutional Layer with 64 filters with size of 3x3\n",
    "- ReLU activation function\n",
    "- 2x2 MaxPooling\n",
    "- Fully connected layer with 512 units and ReLU activation function\n",
    "- Softmax activation layer for output layer\n",
    "\n",
    "\n"
   ]
  },
  {
   "cell_type": "code",
   "execution_count": 327,
   "metadata": {},
   "outputs": [],
   "source": [
    "\n",
    "model=Sequential()\n",
    "model.add(keras.layers.Conv2D(32,(3,3),input_shape=(28,28,1),activation='relu'))\n",
    "model.add(keras.layers.MaxPooling2D((2,2)))\n",
    "model.add(keras.layers.Conv2D(32,(3,3),activation='relu'))\n",
    "model.add(keras.layers.MaxPooling2D((2,2)))\n",
    "model.add(keras.layers.Flatten())\n",
    "model.add(keras.layers.Dense(512,activation='relu'))\n",
    "model.add(keras.layers.Dense(10,activation='softmax'))"
   ]
  },
  {
   "cell_type": "code",
   "execution_count": 328,
   "metadata": {},
   "outputs": [
    {
     "name": "stdout",
     "output_type": "stream",
     "text": [
      "_________________________________________________________________\n",
      "Layer (type)                 Output Shape              Param #   \n",
      "=================================================================\n",
      "conv2d_7 (Conv2D)            (None, 26, 26, 32)        320       \n",
      "_________________________________________________________________\n",
      "max_pooling2d_7 (MaxPooling2 (None, 13, 13, 32)        0         \n",
      "_________________________________________________________________\n",
      "conv2d_8 (Conv2D)            (None, 11, 11, 32)        9248      \n",
      "_________________________________________________________________\n",
      "max_pooling2d_8 (MaxPooling2 (None, 5, 5, 32)          0         \n",
      "_________________________________________________________________\n",
      "flatten_4 (Flatten)          (None, 800)               0         \n",
      "_________________________________________________________________\n",
      "dense_16 (Dense)             (None, 512)               410112    \n",
      "_________________________________________________________________\n",
      "dense_17 (Dense)             (None, 10)                5130      \n",
      "=================================================================\n",
      "Total params: 424,810\n",
      "Trainable params: 424,810\n",
      "Non-trainable params: 0\n",
      "_________________________________________________________________\n"
     ]
    }
   ],
   "source": [
    "model.summary()"
   ]
  },
  {
   "cell_type": "code",
   "execution_count": 329,
   "metadata": {},
   "outputs": [],
   "source": [
    "model.compile(optimizer='sgd',loss='categorical_crossentropy',metrics=['accuracy'])"
   ]
  },
  {
   "cell_type": "code",
   "execution_count": 330,
   "metadata": {},
   "outputs": [],
   "source": [
    "y_train_new=keras.utils.to_categorical(y_train, num_classes=10)\n",
    "y_test_new=keras.utils.to_categorical(y_test, num_classes=10)"
   ]
  },
  {
   "cell_type": "code",
   "execution_count": 331,
   "metadata": {},
   "outputs": [],
   "source": [
    "X_train = X_train.reshape((60000, 28, 28, 1))\n",
    "X_train = X_train.astype('float32') / 255.0\n",
    "X_test = X_test.reshape((10000, 28, 28, 1))\n",
    "X_test = X_test.astype('float32') / 255.0"
   ]
  },
  {
   "cell_type": "code",
   "execution_count": 332,
   "metadata": {},
   "outputs": [
    {
     "name": "stdout",
     "output_type": "stream",
     "text": [
      "Train on 60000 samples, validate on 10000 samples\n",
      "Epoch 1/100\n",
      " 5248/60000 [=>............................] - ETA: 35s - loss: 2.3024 - acc: 0.10"
     ]
    },
    {
     "ename": "KeyboardInterrupt",
     "evalue": "",
     "output_type": "error",
     "traceback": [
      "\u001b[1;31m---------------------------------------------------------------------------\u001b[0m",
      "\u001b[1;31mKeyboardInterrupt\u001b[0m                         Traceback (most recent call last)",
      "\u001b[1;32m<ipython-input-332-4093c74543d0>\u001b[0m in \u001b[0;36m<module>\u001b[1;34m\u001b[0m\n\u001b[1;32m----> 1\u001b[1;33m \u001b[0mmodel\u001b[0m\u001b[1;33m.\u001b[0m\u001b[0mfit\u001b[0m\u001b[1;33m(\u001b[0m\u001b[0mX_train\u001b[0m\u001b[1;33m,\u001b[0m\u001b[0my_train_new\u001b[0m\u001b[1;33m,\u001b[0m\u001b[0mepochs\u001b[0m\u001b[1;33m=\u001b[0m\u001b[1;36m100\u001b[0m\u001b[1;33m,\u001b[0m\u001b[0mvalidation_data\u001b[0m\u001b[1;33m=\u001b[0m\u001b[1;33m(\u001b[0m\u001b[0mX_test\u001b[0m\u001b[1;33m,\u001b[0m\u001b[0my_test_new\u001b[0m\u001b[1;33m)\u001b[0m\u001b[1;33m)\u001b[0m\u001b[1;33m\u001b[0m\u001b[1;33m\u001b[0m\u001b[0m\n\u001b[0m",
      "\u001b[1;32mD:\\Anaconda\\envs\\tensorflow_env\\lib\\site-packages\\keras\\engine\\training.py\u001b[0m in \u001b[0;36mfit\u001b[1;34m(self, x, y, batch_size, epochs, verbose, callbacks, validation_split, validation_data, shuffle, class_weight, sample_weight, initial_epoch, steps_per_epoch, validation_steps, **kwargs)\u001b[0m\n\u001b[0;32m   1037\u001b[0m                                         \u001b[0minitial_epoch\u001b[0m\u001b[1;33m=\u001b[0m\u001b[0minitial_epoch\u001b[0m\u001b[1;33m,\u001b[0m\u001b[1;33m\u001b[0m\u001b[1;33m\u001b[0m\u001b[0m\n\u001b[0;32m   1038\u001b[0m                                         \u001b[0msteps_per_epoch\u001b[0m\u001b[1;33m=\u001b[0m\u001b[0msteps_per_epoch\u001b[0m\u001b[1;33m,\u001b[0m\u001b[1;33m\u001b[0m\u001b[1;33m\u001b[0m\u001b[0m\n\u001b[1;32m-> 1039\u001b[1;33m                                         validation_steps=validation_steps)\n\u001b[0m\u001b[0;32m   1040\u001b[0m \u001b[1;33m\u001b[0m\u001b[0m\n\u001b[0;32m   1041\u001b[0m     def evaluate(self, x=None, y=None,\n",
      "\u001b[1;32mD:\\Anaconda\\envs\\tensorflow_env\\lib\\site-packages\\keras\\engine\\training_arrays.py\u001b[0m in \u001b[0;36mfit_loop\u001b[1;34m(model, f, ins, out_labels, batch_size, epochs, verbose, callbacks, val_f, val_ins, shuffle, callback_metrics, initial_epoch, steps_per_epoch, validation_steps)\u001b[0m\n\u001b[0;32m    202\u001b[0m                     \u001b[0mbatch_logs\u001b[0m\u001b[1;33m[\u001b[0m\u001b[0ml\u001b[0m\u001b[1;33m]\u001b[0m \u001b[1;33m=\u001b[0m \u001b[0mo\u001b[0m\u001b[1;33m\u001b[0m\u001b[1;33m\u001b[0m\u001b[0m\n\u001b[0;32m    203\u001b[0m \u001b[1;33m\u001b[0m\u001b[0m\n\u001b[1;32m--> 204\u001b[1;33m                 \u001b[0mcallbacks\u001b[0m\u001b[1;33m.\u001b[0m\u001b[0mon_batch_end\u001b[0m\u001b[1;33m(\u001b[0m\u001b[0mbatch_index\u001b[0m\u001b[1;33m,\u001b[0m \u001b[0mbatch_logs\u001b[0m\u001b[1;33m)\u001b[0m\u001b[1;33m\u001b[0m\u001b[1;33m\u001b[0m\u001b[0m\n\u001b[0m\u001b[0;32m    205\u001b[0m                 \u001b[1;32mif\u001b[0m \u001b[0mcallback_model\u001b[0m\u001b[1;33m.\u001b[0m\u001b[0mstop_training\u001b[0m\u001b[1;33m:\u001b[0m\u001b[1;33m\u001b[0m\u001b[1;33m\u001b[0m\u001b[0m\n\u001b[0;32m    206\u001b[0m                     \u001b[1;32mbreak\u001b[0m\u001b[1;33m\u001b[0m\u001b[1;33m\u001b[0m\u001b[0m\n",
      "\u001b[1;32mD:\\Anaconda\\envs\\tensorflow_env\\lib\\site-packages\\keras\\callbacks.py\u001b[0m in \u001b[0;36mon_batch_end\u001b[1;34m(self, batch, logs)\u001b[0m\n\u001b[0;32m    113\u001b[0m         \u001b[0mt_before_callbacks\u001b[0m \u001b[1;33m=\u001b[0m \u001b[0mtime\u001b[0m\u001b[1;33m.\u001b[0m\u001b[0mtime\u001b[0m\u001b[1;33m(\u001b[0m\u001b[1;33m)\u001b[0m\u001b[1;33m\u001b[0m\u001b[1;33m\u001b[0m\u001b[0m\n\u001b[0;32m    114\u001b[0m         \u001b[1;32mfor\u001b[0m \u001b[0mcallback\u001b[0m \u001b[1;32min\u001b[0m \u001b[0mself\u001b[0m\u001b[1;33m.\u001b[0m\u001b[0mcallbacks\u001b[0m\u001b[1;33m:\u001b[0m\u001b[1;33m\u001b[0m\u001b[1;33m\u001b[0m\u001b[0m\n\u001b[1;32m--> 115\u001b[1;33m             \u001b[0mcallback\u001b[0m\u001b[1;33m.\u001b[0m\u001b[0mon_batch_end\u001b[0m\u001b[1;33m(\u001b[0m\u001b[0mbatch\u001b[0m\u001b[1;33m,\u001b[0m \u001b[0mlogs\u001b[0m\u001b[1;33m)\u001b[0m\u001b[1;33m\u001b[0m\u001b[1;33m\u001b[0m\u001b[0m\n\u001b[0m\u001b[0;32m    116\u001b[0m         \u001b[0mself\u001b[0m\u001b[1;33m.\u001b[0m\u001b[0m_delta_ts_batch_end\u001b[0m\u001b[1;33m.\u001b[0m\u001b[0mappend\u001b[0m\u001b[1;33m(\u001b[0m\u001b[0mtime\u001b[0m\u001b[1;33m.\u001b[0m\u001b[0mtime\u001b[0m\u001b[1;33m(\u001b[0m\u001b[1;33m)\u001b[0m \u001b[1;33m-\u001b[0m \u001b[0mt_before_callbacks\u001b[0m\u001b[1;33m)\u001b[0m\u001b[1;33m\u001b[0m\u001b[1;33m\u001b[0m\u001b[0m\n\u001b[0;32m    117\u001b[0m         \u001b[0mdelta_t_median\u001b[0m \u001b[1;33m=\u001b[0m \u001b[0mnp\u001b[0m\u001b[1;33m.\u001b[0m\u001b[0mmedian\u001b[0m\u001b[1;33m(\u001b[0m\u001b[0mself\u001b[0m\u001b[1;33m.\u001b[0m\u001b[0m_delta_ts_batch_end\u001b[0m\u001b[1;33m)\u001b[0m\u001b[1;33m\u001b[0m\u001b[1;33m\u001b[0m\u001b[0m\n",
      "\u001b[1;32mD:\\Anaconda\\envs\\tensorflow_env\\lib\\site-packages\\keras\\callbacks.py\u001b[0m in \u001b[0;36mon_batch_end\u001b[1;34m(self, batch, logs)\u001b[0m\n\u001b[0;32m    328\u001b[0m         \u001b[1;31m# will be handled by on_epoch_end.\u001b[0m\u001b[1;33m\u001b[0m\u001b[1;33m\u001b[0m\u001b[1;33m\u001b[0m\u001b[0m\n\u001b[0;32m    329\u001b[0m         \u001b[1;32mif\u001b[0m \u001b[0mself\u001b[0m\u001b[1;33m.\u001b[0m\u001b[0mverbose\u001b[0m \u001b[1;32mand\u001b[0m \u001b[0mself\u001b[0m\u001b[1;33m.\u001b[0m\u001b[0mseen\u001b[0m \u001b[1;33m<\u001b[0m \u001b[0mself\u001b[0m\u001b[1;33m.\u001b[0m\u001b[0mtarget\u001b[0m\u001b[1;33m:\u001b[0m\u001b[1;33m\u001b[0m\u001b[1;33m\u001b[0m\u001b[0m\n\u001b[1;32m--> 330\u001b[1;33m             \u001b[0mself\u001b[0m\u001b[1;33m.\u001b[0m\u001b[0mprogbar\u001b[0m\u001b[1;33m.\u001b[0m\u001b[0mupdate\u001b[0m\u001b[1;33m(\u001b[0m\u001b[0mself\u001b[0m\u001b[1;33m.\u001b[0m\u001b[0mseen\u001b[0m\u001b[1;33m,\u001b[0m \u001b[0mself\u001b[0m\u001b[1;33m.\u001b[0m\u001b[0mlog_values\u001b[0m\u001b[1;33m)\u001b[0m\u001b[1;33m\u001b[0m\u001b[1;33m\u001b[0m\u001b[0m\n\u001b[0m\u001b[0;32m    331\u001b[0m \u001b[1;33m\u001b[0m\u001b[0m\n\u001b[0;32m    332\u001b[0m     \u001b[1;32mdef\u001b[0m \u001b[0mon_epoch_end\u001b[0m\u001b[1;33m(\u001b[0m\u001b[0mself\u001b[0m\u001b[1;33m,\u001b[0m \u001b[0mepoch\u001b[0m\u001b[1;33m,\u001b[0m \u001b[0mlogs\u001b[0m\u001b[1;33m=\u001b[0m\u001b[1;32mNone\u001b[0m\u001b[1;33m)\u001b[0m\u001b[1;33m:\u001b[0m\u001b[1;33m\u001b[0m\u001b[1;33m\u001b[0m\u001b[0m\n",
      "\u001b[1;32mD:\\Anaconda\\envs\\tensorflow_env\\lib\\site-packages\\keras\\utils\\generic_utils.py\u001b[0m in \u001b[0;36mupdate\u001b[1;34m(self, current, values)\u001b[0m\n\u001b[0;32m    377\u001b[0m \u001b[1;33m\u001b[0m\u001b[0m\n\u001b[0;32m    378\u001b[0m             \u001b[0mself\u001b[0m\u001b[1;33m.\u001b[0m\u001b[0m_total_width\u001b[0m \u001b[1;33m=\u001b[0m \u001b[0mlen\u001b[0m\u001b[1;33m(\u001b[0m\u001b[0mbar\u001b[0m\u001b[1;33m)\u001b[0m\u001b[1;33m\u001b[0m\u001b[1;33m\u001b[0m\u001b[0m\n\u001b[1;32m--> 379\u001b[1;33m             \u001b[0msys\u001b[0m\u001b[1;33m.\u001b[0m\u001b[0mstdout\u001b[0m\u001b[1;33m.\u001b[0m\u001b[0mwrite\u001b[0m\u001b[1;33m(\u001b[0m\u001b[0mbar\u001b[0m\u001b[1;33m)\u001b[0m\u001b[1;33m\u001b[0m\u001b[1;33m\u001b[0m\u001b[0m\n\u001b[0m\u001b[0;32m    380\u001b[0m \u001b[1;33m\u001b[0m\u001b[0m\n\u001b[0;32m    381\u001b[0m             \u001b[1;32mif\u001b[0m \u001b[0mcurrent\u001b[0m\u001b[1;33m:\u001b[0m\u001b[1;33m\u001b[0m\u001b[1;33m\u001b[0m\u001b[0m\n",
      "\u001b[1;32mD:\\Anaconda\\envs\\tensorflow_env\\lib\\site-packages\\ipykernel\\iostream.py\u001b[0m in \u001b[0;36mwrite\u001b[1;34m(self, string)\u001b[0m\n\u001b[0;32m    398\u001b[0m             \u001b[0mis_child\u001b[0m \u001b[1;33m=\u001b[0m \u001b[1;33m(\u001b[0m\u001b[1;32mnot\u001b[0m \u001b[0mself\u001b[0m\u001b[1;33m.\u001b[0m\u001b[0m_is_master_process\u001b[0m\u001b[1;33m(\u001b[0m\u001b[1;33m)\u001b[0m\u001b[1;33m)\u001b[0m\u001b[1;33m\u001b[0m\u001b[1;33m\u001b[0m\u001b[0m\n\u001b[0;32m    399\u001b[0m             \u001b[1;31m# only touch the buffer in the IO thread to avoid races\u001b[0m\u001b[1;33m\u001b[0m\u001b[1;33m\u001b[0m\u001b[1;33m\u001b[0m\u001b[0m\n\u001b[1;32m--> 400\u001b[1;33m             \u001b[0mself\u001b[0m\u001b[1;33m.\u001b[0m\u001b[0mpub_thread\u001b[0m\u001b[1;33m.\u001b[0m\u001b[0mschedule\u001b[0m\u001b[1;33m(\u001b[0m\u001b[1;32mlambda\u001b[0m \u001b[1;33m:\u001b[0m \u001b[0mself\u001b[0m\u001b[1;33m.\u001b[0m\u001b[0m_buffer\u001b[0m\u001b[1;33m.\u001b[0m\u001b[0mwrite\u001b[0m\u001b[1;33m(\u001b[0m\u001b[0mstring\u001b[0m\u001b[1;33m)\u001b[0m\u001b[1;33m)\u001b[0m\u001b[1;33m\u001b[0m\u001b[1;33m\u001b[0m\u001b[0m\n\u001b[0m\u001b[0;32m    401\u001b[0m             \u001b[1;32mif\u001b[0m \u001b[0mis_child\u001b[0m\u001b[1;33m:\u001b[0m\u001b[1;33m\u001b[0m\u001b[1;33m\u001b[0m\u001b[0m\n\u001b[0;32m    402\u001b[0m                 \u001b[1;31m# newlines imply flush in subprocesses\u001b[0m\u001b[1;33m\u001b[0m\u001b[1;33m\u001b[0m\u001b[1;33m\u001b[0m\u001b[0m\n",
      "\u001b[1;32mD:\\Anaconda\\envs\\tensorflow_env\\lib\\site-packages\\ipykernel\\iostream.py\u001b[0m in \u001b[0;36mschedule\u001b[1;34m(self, f)\u001b[0m\n\u001b[0;32m    201\u001b[0m             \u001b[0mself\u001b[0m\u001b[1;33m.\u001b[0m\u001b[0m_events\u001b[0m\u001b[1;33m.\u001b[0m\u001b[0mappend\u001b[0m\u001b[1;33m(\u001b[0m\u001b[0mf\u001b[0m\u001b[1;33m)\u001b[0m\u001b[1;33m\u001b[0m\u001b[1;33m\u001b[0m\u001b[0m\n\u001b[0;32m    202\u001b[0m             \u001b[1;31m# wake event thread (message content is ignored)\u001b[0m\u001b[1;33m\u001b[0m\u001b[1;33m\u001b[0m\u001b[1;33m\u001b[0m\u001b[0m\n\u001b[1;32m--> 203\u001b[1;33m             \u001b[0mself\u001b[0m\u001b[1;33m.\u001b[0m\u001b[0m_event_pipe\u001b[0m\u001b[1;33m.\u001b[0m\u001b[0msend\u001b[0m\u001b[1;33m(\u001b[0m\u001b[1;34mb''\u001b[0m\u001b[1;33m)\u001b[0m\u001b[1;33m\u001b[0m\u001b[1;33m\u001b[0m\u001b[0m\n\u001b[0m\u001b[0;32m    204\u001b[0m         \u001b[1;32melse\u001b[0m\u001b[1;33m:\u001b[0m\u001b[1;33m\u001b[0m\u001b[1;33m\u001b[0m\u001b[0m\n\u001b[0;32m    205\u001b[0m             \u001b[0mf\u001b[0m\u001b[1;33m(\u001b[0m\u001b[1;33m)\u001b[0m\u001b[1;33m\u001b[0m\u001b[1;33m\u001b[0m\u001b[0m\n",
      "\u001b[1;32mD:\\Anaconda\\envs\\tensorflow_env\\lib\\site-packages\\zmq\\sugar\\socket.py\u001b[0m in \u001b[0;36msend\u001b[1;34m(self, data, flags, copy, track, routing_id, group)\u001b[0m\n\u001b[0;32m    393\u001b[0m                                  copy_threshold=self.copy_threshold)\n\u001b[0;32m    394\u001b[0m             \u001b[0mdata\u001b[0m\u001b[1;33m.\u001b[0m\u001b[0mgroup\u001b[0m \u001b[1;33m=\u001b[0m \u001b[0mgroup\u001b[0m\u001b[1;33m\u001b[0m\u001b[1;33m\u001b[0m\u001b[0m\n\u001b[1;32m--> 395\u001b[1;33m         \u001b[1;32mreturn\u001b[0m \u001b[0msuper\u001b[0m\u001b[1;33m(\u001b[0m\u001b[0mSocket\u001b[0m\u001b[1;33m,\u001b[0m \u001b[0mself\u001b[0m\u001b[1;33m)\u001b[0m\u001b[1;33m.\u001b[0m\u001b[0msend\u001b[0m\u001b[1;33m(\u001b[0m\u001b[0mdata\u001b[0m\u001b[1;33m,\u001b[0m \u001b[0mflags\u001b[0m\u001b[1;33m=\u001b[0m\u001b[0mflags\u001b[0m\u001b[1;33m,\u001b[0m \u001b[0mcopy\u001b[0m\u001b[1;33m=\u001b[0m\u001b[0mcopy\u001b[0m\u001b[1;33m,\u001b[0m \u001b[0mtrack\u001b[0m\u001b[1;33m=\u001b[0m\u001b[0mtrack\u001b[0m\u001b[1;33m)\u001b[0m\u001b[1;33m\u001b[0m\u001b[1;33m\u001b[0m\u001b[0m\n\u001b[0m\u001b[0;32m    396\u001b[0m \u001b[1;33m\u001b[0m\u001b[0m\n\u001b[0;32m    397\u001b[0m     \u001b[1;32mdef\u001b[0m \u001b[0msend_multipart\u001b[0m\u001b[1;33m(\u001b[0m\u001b[0mself\u001b[0m\u001b[1;33m,\u001b[0m \u001b[0mmsg_parts\u001b[0m\u001b[1;33m,\u001b[0m \u001b[0mflags\u001b[0m\u001b[1;33m=\u001b[0m\u001b[1;36m0\u001b[0m\u001b[1;33m,\u001b[0m \u001b[0mcopy\u001b[0m\u001b[1;33m=\u001b[0m\u001b[1;32mTrue\u001b[0m\u001b[1;33m,\u001b[0m \u001b[0mtrack\u001b[0m\u001b[1;33m=\u001b[0m\u001b[1;32mFalse\u001b[0m\u001b[1;33m,\u001b[0m \u001b[1;33m**\u001b[0m\u001b[0mkwargs\u001b[0m\u001b[1;33m)\u001b[0m\u001b[1;33m:\u001b[0m\u001b[1;33m\u001b[0m\u001b[1;33m\u001b[0m\u001b[0m\n",
      "\u001b[1;32mzmq/backend/cython/socket.pyx\u001b[0m in \u001b[0;36mzmq.backend.cython.socket.Socket.send\u001b[1;34m()\u001b[0m\n",
      "\u001b[1;32mzmq/backend/cython/socket.pyx\u001b[0m in \u001b[0;36mzmq.backend.cython.socket.Socket.send\u001b[1;34m()\u001b[0m\n",
      "\u001b[1;32mzmq/backend/cython/socket.pyx\u001b[0m in \u001b[0;36mzmq.backend.cython.socket._send_copy\u001b[1;34m()\u001b[0m\n",
      "\u001b[1;32mD:\\Anaconda\\envs\\tensorflow_env\\lib\\site-packages\\zmq\\backend\\cython\\checkrc.pxd\u001b[0m in \u001b[0;36mzmq.backend.cython.checkrc._check_rc\u001b[1;34m()\u001b[0m\n",
      "\u001b[1;31mKeyboardInterrupt\u001b[0m: "
     ]
    }
   ],
   "source": [
    "model.fit(X_train,y_train_new,epochs=100,validation_data=(X_test,y_test_new))"
   ]
  },
  {
   "cell_type": "code",
   "execution_count": 79,
   "metadata": {},
   "outputs": [],
   "source": [
    "y_pred=model.predict(X_test)"
   ]
  },
  {
   "cell_type": "code",
   "execution_count": 81,
   "metadata": {},
   "outputs": [],
   "source": [
    "from sklearn.metrics import classification_report"
   ]
  },
  {
   "cell_type": "code",
   "execution_count": 82,
   "metadata": {},
   "outputs": [
    {
     "name": "stdout",
     "output_type": "stream",
     "text": [
      "              precision    recall  f1-score   support\n",
      "\n",
      "           0       0.00      0.00      0.00      1000\n",
      "           1       0.00      0.00      0.00      1000\n",
      "           2       0.10      1.00      0.18      1000\n",
      "           3       0.00      0.00      0.00      1000\n",
      "           4       0.00      0.00      0.00      1000\n",
      "           5       0.00      0.00      0.00      1000\n",
      "           6       0.00      0.00      0.00      1000\n",
      "           7       0.00      0.00      0.00      1000\n",
      "           8       0.00      0.00      0.00      1000\n",
      "           9       0.00      0.00      0.00      1000\n",
      "\n",
      "    accuracy                           0.10     10000\n",
      "   macro avg       0.01      0.10      0.02     10000\n",
      "weighted avg       0.01      0.10      0.02     10000\n",
      "\n"
     ]
    }
   ],
   "source": [
    "print(classification_report(y_test,y_pred.argmax(axis=1)))"
   ]
  }
 ],
 "metadata": {
  "kernelspec": {
   "display_name": "Python 3",
   "language": "python",
   "name": "python3"
  },
  "language_info": {
   "codemirror_mode": {
    "name": "ipython",
    "version": 3
   },
   "file_extension": ".py",
   "mimetype": "text/x-python",
   "name": "python",
   "nbconvert_exporter": "python",
   "pygments_lexer": "ipython3",
   "version": "3.7.6"
  }
 },
 "nbformat": 4,
 "nbformat_minor": 2
}
